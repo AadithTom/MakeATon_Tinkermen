import numpy as np
import pandas as pd
import matplotlib.pyplot as plt
import seaborn as sns
import requests
from typing import Tuple, Optional

# Set style for matplotlib
plt.style.use('seaborn-v0_8')  # Updated to use the non-deprecated style

# Load the dataset
df = pd.read_csv('/kaggle/input/crimedata/crimedata.csv')

# Fill missing values in code columns and convert to int
code_cols = ['countyCode', 'communityCode']
df[code_cols] = df[code_cols].fillna(0).astype(int)

# Clean community names by removing suffixes
suffixes = ['township', 'city', 'borough']
df['communityName'] = df['communityName'].str.replace('|'.join(suffixes), '', regex=True).str.strip()

# Function to get latitude and longitude using Nominatim
def get_coordinates_osm(location: str) -> Tuple[Optional[float], Optional[float]]:
    base_url = "https://nominatim.openstreetmap.org/search"
    params = {
        'q': location,
        'format': 'json',
        'limit': 1  # Limit to one result
    }
    headers = {'User-Agent': 'YourAppName/1.0'}  # Add a user agent
    try:
        response = requests.get(base_url, params=params, headers=headers, timeout=10)
        response.raise_for_status()
        data = response.json()
        if data:
            return float(data[0]['lat']), float(data[0]['lon'])
    except (requests.RequestException, ValueError, KeyError, IndexError):
        pass
    return None, None

# Add latitude and longitude columns
df['latitude'] = None
df['longitude'] = None

# Update coordinates for each unique location
unique_locations = df[['communityName', 'state']].drop_duplicates()
for _, row in unique_locations.iterrows():
    lat, lon = get_coordinates_osm(f"{row['communityName']}, {row['state']}")
    mask = (df['communityName'] == row['communityName']) & (df['state'] == row['state'])
    df.loc[mask, ['latitude', 'longitude']] = [lat, lon]

# Function to visualize data by state
def graph_by_state(col: str, estimator: str = 'mean'):
    if estimator not in ['mean', 'median']:
        raise ValueError('Estimator not recognized')
    
    state = df.groupby('state')[col].agg(estimator).reset_index().sort_values(by=col, ascending=False)
    
    plt.figure(figsize=(12, 12))
    sns.barplot(data=state, y='state', x=col, palette='winter')
    plt.title(f'{col.capitalize()} by State ({estimator})')
    plt.xlabel(col.capitalize())
    plt.ylabel('State')
    plt.tight_layout()
    plt.show()

# Visualize population by state
graph_by_state('population', estimator='median')

# Display data for New York
print(df[df['state'] == 'NY'].head())  # Only show the first few rows
